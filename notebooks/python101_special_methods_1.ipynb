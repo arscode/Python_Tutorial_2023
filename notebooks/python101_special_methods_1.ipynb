{
 "cells": [
  {
   "cell_type": "markdown",
   "metadata": {},
   "source": [
    "# Python 101: Special methods\n",
    "## map, zip, filter, eval, etc."
   ]
  },
  {
   "cell_type": "markdown",
   "metadata": {},
   "source": [
    "### swapping values in python"
   ]
  },
  {
   "cell_type": "code",
   "execution_count": 7,
   "metadata": {},
   "outputs": [
    {
     "name": "stdout",
     "output_type": "stream",
     "text": [
      "9 5 0\n"
     ]
    }
   ],
   "source": [
    "# conventional way\n",
    "a = 9\n",
    "b = 5\n",
    "temp = 0\n",
    "#before swap\n",
    "print(a,b,temp)"
   ]
  },
  {
   "cell_type": "code",
   "execution_count": 3,
   "metadata": {},
   "outputs": [
    {
     "name": "stdout",
     "output_type": "stream",
     "text": [
      "5\n",
      "9\n"
     ]
    }
   ],
   "source": [
    "temp = a\n",
    "a = b\n",
    "b = temp\n",
    "print(a)\n",
    "print(b)"
   ]
  },
  {
   "cell_type": "code",
   "execution_count": 8,
   "metadata": {},
   "outputs": [
    {
     "name": "stdout",
     "output_type": "stream",
     "text": [
      "a new value: 3\n",
      "b new value: 12\n",
      "c new value:  34\n"
     ]
    }
   ],
   "source": [
    "# python way\n",
    "a = 12\n",
    "b = 34\n",
    "c = 3\n",
    "#print(\"a value: \", a)\n",
    "#print(\"b value: \", b)\n",
    "\n",
    "a,b,c = c, a , b\n",
    "\n",
    "print(\"a new value:\", a)\n",
    "print(\"b new value:\", b)\n",
    "print(\"c new value: \", c)\n"
   ]
  },
  {
   "cell_type": "markdown",
   "metadata": {},
   "source": [
    "### the great one liner - for loop"
   ]
  },
  {
   "cell_type": "code",
   "execution_count": 10,
   "metadata": {},
   "outputs": [
    {
     "name": "stdout",
     "output_type": "stream",
     "text": [
      "morning\n"
     ]
    }
   ],
   "source": [
    "wordList = [\"hello\", \"folks\", \"good\", \"morning\"]\n",
    "for word in wordList:\n",
    "    if len(word)>5:\n",
    "        print(word)"
   ]
  },
  {
   "cell_type": "code",
   "execution_count": 97,
   "metadata": {},
   "outputs": [
    {
     "name": "stdout",
     "output_type": "stream",
     "text": [
      "['morning']\n"
     ]
    }
   ],
   "source": [
    "wordList = [\"hello\", \"folks\", \"good\", \"morning\"]\n",
    "\n",
    "def giveAway(lst):\n",
    "    return [words for words in lst if len(words) > 5 ]\n",
    "\n",
    "print(giveAway(wordList))\n"
   ]
  },
  {
   "cell_type": "code",
   "execution_count": 1,
   "metadata": {},
   "outputs": [
    {
     "name": "stdout",
     "output_type": "stream",
     "text": [
      "[125]\n"
     ]
    }
   ],
   "source": [
    "numList = [1,3,4,9,5]\n",
    "def giveCube(lst):\n",
    "    return [num**3 for num in numList if num**3 % 5 == 0 ]\n",
    "\n",
    "print(giveCube(numList))"
   ]
  },
  {
   "cell_type": "markdown",
   "metadata": {},
   "source": [
    "### Fibonacci series"
   ]
  },
  {
   "cell_type": "markdown",
   "metadata": {},
   "source": [
    "$F_n = F_{n-1} + F_{n-2}$ for $n > 2$ <br><br>\n",
    "$F_0 = 0, F_1 = 1$"
   ]
  },
  {
   "cell_type": "code",
   "execution_count": 1,
   "metadata": {},
   "outputs": [
    {
     "name": "stdout",
     "output_type": "stream",
     "text": [
      "How many terms? 10\n",
      "Fibonacci sequence:\n",
      "0\n",
      "1\n",
      "1\n",
      "2\n",
      "3\n",
      "5\n",
      "8\n",
      "13\n",
      "21\n",
      "34\n"
     ]
    }
   ],
   "source": [
    "# Program to display the Fibonacci sequence up to n-th term\n",
    "nterms = int(input(\"How many terms? \"))\n",
    "# first two terms\n",
    "n1, n2 = 0, 1\n",
    "count = 0\n",
    "# check if the number of terms is valid\n",
    "if nterms <= 0:\n",
    "   print(\"Please enter a positive integer\")\n",
    "elif nterms == 1:\n",
    "   print(\"Fibonacci sequence upto\",nterms,\":\")\n",
    "   print(n1)\n",
    "else:\n",
    "   print(\"Fibonacci sequence:\")\n",
    "   while count < nterms:\n",
    "       print(n1)\n",
    "       nth = n1 + n2\n",
    "       # update values\n",
    "       n1 = n2\n",
    "       n2 = nth\n",
    "       count += 1"
   ]
  },
  {
   "cell_type": "code",
   "execution_count": 11,
   "metadata": {},
   "outputs": [
    {
     "name": "stdout",
     "output_type": "stream",
     "text": [
      "Fibonacci sequence:\n",
      "0\n",
      "1\n",
      "1\n",
      "2\n",
      "3\n",
      "5\n",
      "8\n",
      "13\n",
      "21\n",
      "34\n"
     ]
    }
   ],
   "source": [
    "# Python program to display the Fibonacci sequence using recursion\n",
    "def recur_fibo(n):\n",
    "   if n <= 1:\n",
    "       return n\n",
    "   else:\n",
    "       return(recur_fibo(n-1) + recur_fibo(n-2))\n",
    "    \n",
    "nterms = 10\n",
    "\n",
    "# check if the number of terms is valid\n",
    "if nterms <= 0:\n",
    "   print(\"Plese enter a positive integer\")\n",
    "else:\n",
    "   print(\"Fibonacci sequence:\")\n",
    "   for i in range(nterms):\n",
    "       print(recur_fibo(i))"
   ]
  },
  {
   "cell_type": "markdown",
   "metadata": {},
   "source": [
    "## zip( ) function in python\n",
    "it combines two or more iterables together and form a colelction(set/list/tuple...)"
   ]
  },
  {
   "cell_type": "code",
   "execution_count": 19,
   "metadata": {},
   "outputs": [
    {
     "name": "stdout",
     "output_type": "stream",
     "text": [
      "[]\n",
      "<class 'zip'>\n",
      "[('one', 1), ('two', 2), ('three', 3)]\n"
     ]
    }
   ],
   "source": [
    "a = ['one', 'two', 'three']\n",
    "b = [1,2,3]\n",
    "\n",
    "result = zip()\n",
    "rlist = list(result)\n",
    "print(rlist)\n",
    "\n",
    "# two iterables are passed\n",
    "result = zip(a,b)\n",
    "print(type(result))\n",
    "\n",
    "# convert iterable to set\n",
    "# change typecast to other container forms and see what happens...!!; (list, tuple, set)\n",
    "#rset = tuple(result)\n",
    "#lset  = list(result)\n",
    "print(list(result))\n"
   ]
  },
  {
   "cell_type": "markdown",
   "metadata": {},
   "source": [
    "#### zip with different lenght iterables"
   ]
  },
  {
   "cell_type": "code",
   "execution_count": 15,
   "metadata": {},
   "outputs": [
    {
     "name": "stdout",
     "output_type": "stream",
     "text": [
      "\n",
      "Printing the values of zip\n",
      "('Alpha', 'one', 1)\n",
      "('Beta', 'two', 2)\n",
      "('Gamma', 'three', 3)\n",
      "Zip file contains  3 elements.\n"
     ]
    }
   ],
   "source": [
    "# list of 4 elements\n",
    "list1 = ['Alpha', 'Beta', 'Gamma', 'Sigma']\n",
    "\n",
    "# list of 5 elements\n",
    "list2 = ['one', 'two', 'three', 'six', 'five']\n",
    "\n",
    "# list of 3 elments\n",
    "list3 = [1, 2, 3]\n",
    "\n",
    "test = zip(list1, list2, list3)  # zip the values\n",
    "cnt = 0\n",
    "\n",
    "print('\\nPrinting the values of zip')\n",
    "for values in test:\n",
    "    print(values)  # print each tuples\n",
    "    cnt+=1\n",
    "\n",
    "print('Zip file contains ', cnt, 'elements.');"
   ]
  },
  {
   "cell_type": "markdown",
   "metadata": {},
   "source": [
    "#### how to extract information from zip"
   ]
  },
  {
   "cell_type": "code",
   "execution_count": 24,
   "metadata": {},
   "outputs": [
    {
     "name": "stdout",
     "output_type": "stream",
     "text": [
      "<class 'zip'>\n",
      "[('Alpha', 'one'), ('Beta', 'two'), ('Gamma', 'three'), ('Sigma', 'six')]\n",
      "The first list was  ['Alpha', 'Beta', 'Gamma', 'Sigma']\n",
      "The second list was  ['one', 'two', 'three', 'six']\n"
     ]
    }
   ],
   "source": [
    "list1 = ['Alpha', 'Beta', 'Gamma', 'Sigma']\n",
    "list2 = ['one', 'two', 'three', 'six']\n",
    "\n",
    "test = zip(list1, list2)  # zip the values\n",
    "\n",
    "print(type(test)) # checking \n",
    "testList = list(test)\n",
    "print(testList)\n",
    "\n",
    "# to extract put * before the list you want to extract\n",
    "a, b = zip( *testList )\n",
    "#print(type(a))\n",
    "\n",
    "print('The first list was ', list(a));\n",
    "print('The second list was ', list(b));"
   ]
  },
  {
   "cell_type": "markdown",
   "metadata": {},
   "source": [
    "## map( ) function"
   ]
  },
  {
   "cell_type": "markdown",
   "metadata": {},
   "source": [
    "Python map() function is used to apply a function on all the elements of specified iterable and return map object. Python map object is an iterator, so we can iterate over its elements. We can also convert map object to sequence objects such as list, tuple etc."
   ]
  },
  {
   "cell_type": "markdown",
   "metadata": {},
   "source": [
    "syntax: map(function, iterables,.....)"
   ]
  },
  {
   "cell_type": "code",
   "execution_count": 21,
   "metadata": {},
   "outputs": [],
   "source": [
    "def to_upper_case(s):\n",
    "    return str(s).upper()"
   ]
  },
  {
   "cell_type": "code",
   "execution_count": 22,
   "metadata": {},
   "outputs": [],
   "source": [
    "# for printing maps\n",
    "def print_iterator(it):\n",
    "    for x in it:\n",
    "        print(x, end=' ')\n",
    "    print('')  # for new line"
   ]
  },
  {
   "cell_type": "markdown",
   "metadata": {},
   "source": [
    "#### python map( ) with string"
   ]
  },
  {
   "cell_type": "code",
   "execution_count": 24,
   "metadata": {},
   "outputs": [
    {
     "name": "stdout",
     "output_type": "stream",
     "text": [
      "<class 'map'>\n",
      "A B C E R D F K J H D K F J D H K J G \n"
     ]
    }
   ],
   "source": [
    "\n",
    "# map() with string\n",
    "map_iterator = map(to_upper_case, 'abcerdfkjhdkfjdhkjg')\n",
    "print(type(map_iterator))\n",
    "\n",
    "print_iterator(map_iterator)\n",
    "#print(map_iterator)"
   ]
  },
  {
   "cell_type": "markdown",
   "metadata": {},
   "source": [
    "#### python map( ) with tuple "
   ]
  },
  {
   "cell_type": "code",
   "execution_count": 52,
   "metadata": {},
   "outputs": [
    {
     "name": "stdout",
     "output_type": "stream",
     "text": [
      "1 A ABC \n"
     ]
    }
   ],
   "source": [
    "# map() with tuple\n",
    "map_iterator = map(to_upper_case, (1, 'a', 'abc'))\n",
    "print_iterator(map_iterator)"
   ]
  },
  {
   "cell_type": "markdown",
   "metadata": {},
   "source": [
    "#### python map( ) with list"
   ]
  },
  {
   "cell_type": "code",
   "execution_count": 26,
   "metadata": {},
   "outputs": [
    {
     "name": "stdout",
     "output_type": "stream",
     "text": [
      "X A ABC \n"
     ]
    }
   ],
   "source": [
    "map_iterator = map(to_upper_case, ['x', 'a', 'abc'])\n",
    "print_iterator(map_iterator)\n",
    "# print(map_iterator)"
   ]
  },
  {
   "cell_type": "markdown",
   "metadata": {},
   "source": [
    "### convert a map to list, tuple, set"
   ]
  },
  {
   "cell_type": "code",
   "execution_count": 55,
   "metadata": {},
   "outputs": [
    {
     "name": "stdout",
     "output_type": "stream",
     "text": [
      "['A', 'B', 'C']\n",
      "{'B', 'A', 'C'}\n",
      "('A', 'B', 'C')\n"
     ]
    }
   ],
   "source": [
    "# convert to list\n",
    "map_iterator = map(to_upper_case, ['a', 'b', 'c'])\n",
    "my_list = list(map_iterator)\n",
    "print(my_list)\n",
    "\n",
    "# convert to set\n",
    "map_iterator = map(to_upper_case, ['a', 'b', 'c'])\n",
    "my_set = set(map_iterator)\n",
    "print(my_set)\n",
    "\n",
    "# convert to tuple\n",
    "map_iterator = map(to_upper_case, ['a', 'b', 'c'])\n",
    "my_tuple = tuple(map_iterator)\n",
    "print(my_tuple)"
   ]
  },
  {
   "cell_type": "markdown",
   "metadata": {},
   "source": [
    "### map( ) with lambda"
   ]
  },
  {
   "cell_type": "code",
   "execution_count": 58,
   "metadata": {},
   "outputs": [
    {
     "name": "stdout",
     "output_type": "stream",
     "text": [
      "1 8 27 64 \n"
     ]
    }
   ],
   "source": [
    "list_numbers = [1, 2, 3, 4]\n",
    "#finding cubes\n",
    "map_iterator = map(lambda x: x ** 3, list_numbers)\n",
    "print_iterator(map_iterator)\n"
   ]
  },
  {
   "cell_type": "markdown",
   "metadata": {},
   "source": [
    "### map with multiple arguments"
   ]
  },
  {
   "cell_type": "code",
   "execution_count": 64,
   "metadata": {},
   "outputs": [
    {
     "name": "stdout",
     "output_type": "stream",
     "text": [
      "5 12 21 32 \n"
     ]
    }
   ],
   "source": [
    "# map() with multiple iterable arguments\n",
    "list_numbers = [1, 2, 3, 4]\n",
    "tuple_numbers = (5, 6, 7, 8)\n",
    "map_iterator = map(lambda x, y: x * y, list_numbers, tuple_numbers)\n",
    "print_iterator(map_iterator)\n"
   ]
  },
  {
   "cell_type": "markdown",
   "metadata": {},
   "source": [
    "## python reduce( ) fucntion"
   ]
  },
  {
   "cell_type": "markdown",
   "metadata": {},
   "source": [
    "The reduce() function accepts a function and a sequence and returns a single value calculated as follows:<br><br>\n",
    "\n",
    "- Initially, the function is called with the first two items from the sequence and the result is returned.\n",
    "\n",
    "- The function is then called again with the result obtained in step 1 and the next value in the sequence. This process keeps repeating until there are items in the sequence."
   ]
  },
  {
   "cell_type": "code",
   "execution_count": 33,
   "metadata": {},
   "outputs": [],
   "source": [
    "from functools import reduce"
   ]
  },
  {
   "cell_type": "code",
   "execution_count": 31,
   "metadata": {},
   "outputs": [
    {
     "data": {
      "text/plain": [
       "15"
      ]
     },
     "execution_count": 31,
     "metadata": {},
     "output_type": "execute_result"
    }
   ],
   "source": [
    "def findSum(a,b): return a+b\n",
    "reduce(findSum,[1,2,3,4,5])"
   ]
  },
  {
   "cell_type": "code",
   "execution_count": 70,
   "metadata": {},
   "outputs": [
    {
     "data": {
      "text/plain": [
       "5050"
      ]
     },
     "execution_count": 70,
     "metadata": {},
     "output_type": "execute_result"
    }
   ],
   "source": [
    "# calculating sum from 1 to 100\n",
    "reduce(lambda x, y: x+y, range(1,101))"
   ]
  },
  {
   "cell_type": "code",
   "execution_count": 31,
   "metadata": {},
   "outputs": [
    {
     "name": "stdout",
     "output_type": "stream",
     "text": [
      "5050\n"
     ]
    }
   ],
   "source": [
    "sum_res = 0\n",
    "for k in range(1,101): sum_res += k\n",
    "print(sum_res)"
   ]
  },
  {
   "cell_type": "code",
   "execution_count": 35,
   "metadata": {},
   "outputs": [
    {
     "data": {
      "text/plain": [
       "105"
      ]
     },
     "execution_count": 35,
     "metadata": {},
     "output_type": "execute_result"
    }
   ],
   "source": [
    "# find max value in a list\n",
    "f = lambda a,b: a if (a > b) else b\n",
    "reduce(f, [47,11,42,105,13, 102])"
   ]
  },
  {
   "cell_type": "code",
   "execution_count": 37,
   "metadata": {},
   "outputs": [
    {
     "data": {
      "text/plain": [
       "9884.001"
      ]
     },
     "execution_count": 37,
     "metadata": {},
     "output_type": "execute_result"
    }
   ],
   "source": [
    "# finding max value using reduce\n",
    "def findMax(tl):\n",
    "    from functools import reduce\n",
    "    temp = lambda a,b: a if (a > b) else b\n",
    "    return reduce(temp, tl)\n",
    "\n",
    "findMax([12,356, 9884.001, 34.23, 98.4])"
   ]
  },
  {
   "cell_type": "markdown",
   "metadata": {},
   "source": [
    "## filter( ) in python"
   ]
  },
  {
   "cell_type": "markdown",
   "metadata": {},
   "source": [
    "The filter() method constructs an iterator from elements of an iterable for which a function returns true.<br><br>\n",
    "syntax: filter(function, iterble)"
   ]
  },
  {
   "cell_type": "code",
   "execution_count": 38,
   "metadata": {},
   "outputs": [
    {
     "name": "stdout",
     "output_type": "stream",
     "text": [
      "<class 'filter'>\n",
      "The filtered vowels are:\n",
      "a\n",
      "e\n",
      "i\n",
      "o\n"
     ]
    }
   ],
   "source": [
    "# list of alphabets\n",
    "alphabets = ['a', 'b', 'd', 'e', 'i', 'j', 'o']\n",
    "\n",
    "# function that filters vowels\n",
    "def filterVowels(alphabet):\n",
    "    vowels = ['a', 'e', 'i', 'o', 'u']\n",
    "\n",
    "    if(alphabet in vowels):\n",
    "        return True\n",
    "    else:\n",
    "        return False\n",
    "\n",
    "filteredVowels = filter(filterVowels, alphabets)\n",
    "print(type(filteredVowels))\n",
    "\n",
    "print('The filtered vowels are:')\n",
    "for vowel in filteredVowels:\n",
    "    print(vowel)"
   ]
  },
  {
   "cell_type": "code",
   "execution_count": 39,
   "metadata": {},
   "outputs": [
    {
     "name": "stdout",
     "output_type": "stream",
     "text": [
      "[1, 3, 5, 13]\n",
      "[0, 2, 8]\n"
     ]
    }
   ],
   "source": [
    "# a list contains both even and odd numbers.  \n",
    "seq = [0, 1, 2, 3, 5, 8, 13] \n",
    "  \n",
    "# result contains odd numbers of the list \n",
    "result = filter(lambda x: x % 2, seq) \n",
    "print(list(result)) \n",
    "  \n",
    "# result contains even numbers of the list \n",
    "result = filter(lambda x: x % 2 == 0, seq) \n",
    "print(list(result)) \n"
   ]
  },
  {
   "cell_type": "markdown",
   "metadata": {},
   "source": [
    "## python eval( )\n",
    "parse expression and execute... 'Cute' enough..!! ehh.. :) ;)\n",
    "\n"
   ]
  },
  {
   "cell_type": "markdown",
   "metadata": {},
   "source": [
    "Syntax: eval(expression, globals=None, locals=None) <br><br>\n",
    "\n",
    "- <b>expression</b> – mandatory string parameter, this is being parsed and executed as python expression.\n",
    "- <b>globals</b> – dictionary used to specify the expressions available to execute. Standard built-in methods are available if not explicitly restricted using **\\__builtins__: None** element.\n",
    "- **locals** – used to specify the local variables and methods available to eval() function."
   ]
  },
  {
   "cell_type": "code",
   "execution_count": 106,
   "metadata": {},
   "outputs": [
    {
     "name": "stdout",
     "output_type": "stream",
     "text": [
      "False\n",
      "4\n"
     ]
    }
   ],
   "source": [
    "x = 2\n",
    "\n",
    "print(eval('x==1'))\n",
    "\n",
    "print(eval('x+2'))"
   ]
  },
  {
   "cell_type": "markdown",
   "metadata": {},
   "source": [
    "### Python eval( ) with user input"
   ]
  },
  {
   "cell_type": "code",
   "execution_count": 32,
   "metadata": {},
   "outputs": [
    {
     "name": "stdout",
     "output_type": "stream",
     "text": [
      "Enter Math Function to Evaluate:\n",
      "sqrt(4)\n",
      "2.0\n",
      "Enter Math Function to Evaluate:\n",
      "x\n",
      "name 'x' is not defined\n",
      "Done\n"
     ]
    }
   ],
   "source": [
    "# eval() with user input\n",
    "from math import *\n",
    "\n",
    "for l in range(1, 3):\n",
    "\n",
    "    func = input(\"Enter Math Function to Evaluate:\\n\")\n",
    "    try:\n",
    "        print(eval(func))\n",
    "    except Exception as ex:\n",
    "        print(ex)\n",
    "        break\n",
    "print('Done')\n"
   ]
  },
  {
   "cell_type": "markdown",
   "metadata": {},
   "source": [
    "### security risks with eval( )"
   ]
  },
  {
   "cell_type": "markdown",
   "metadata": {},
   "source": [
    "#### Don't DO IT\n",
    "if you import os module and run **os.system('rm  -rf /')** then entire file system will be corrupted"
   ]
  },
  {
   "cell_type": "markdown",
   "metadata": {},
   "source": [
    "### Task:  design a method called zipdict( )\n",
    "it will take iterables and return a dictionary<br><br>\n",
    "\n",
    "- first same length key value list\n",
    "- different lenght key value list\n",
    "- value could be list / tuple also\n",
    "- it shoud be user interactive"
   ]
  },
  {
   "cell_type": "code",
   "execution_count": null,
   "metadata": {},
   "outputs": [],
   "source": []
  }
 ],
 "metadata": {
  "kernelspec": {
   "display_name": "Python 3 (ipykernel)",
   "language": "python",
   "name": "python3"
  },
  "language_info": {
   "codemirror_mode": {
    "name": "ipython",
    "version": 3
   },
   "file_extension": ".py",
   "mimetype": "text/x-python",
   "name": "python",
   "nbconvert_exporter": "python",
   "pygments_lexer": "ipython3",
   "version": "3.8.8"
  }
 },
 "nbformat": 4,
 "nbformat_minor": 2
}
