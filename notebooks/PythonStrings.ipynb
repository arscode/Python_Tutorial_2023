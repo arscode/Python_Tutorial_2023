{
 "cells": [
  {
   "cell_type": "markdown",
   "metadata": {},
   "source": [
    "# Python 101: Strings manipulation in Python "
   ]
  },
  {
   "cell_type": "code",
   "execution_count": 2,
   "metadata": {},
   "outputs": [],
   "source": [
    "myString = 'Things not true what it seems'"
   ]
  },
  {
   "cell_type": "code",
   "execution_count": 3,
   "metadata": {},
   "outputs": [
    {
     "data": {
      "text/plain": [
       "str"
      ]
     },
     "execution_count": 3,
     "metadata": {},
     "output_type": "execute_result"
    }
   ],
   "source": [
    "type(myString)"
   ]
  },
  {
   "cell_type": "code",
   "execution_count": 4,
   "metadata": {},
   "outputs": [
    {
     "data": {
      "text/plain": [
       "29"
      ]
     },
     "execution_count": 4,
     "metadata": {},
     "output_type": "execute_result"
    }
   ],
   "source": [
    "len(myString)"
   ]
  },
  {
   "cell_type": "code",
   "execution_count": 5,
   "metadata": {},
   "outputs": [
    {
     "name": "stdout",
     "output_type": "stream",
     "text": [
      "d e\n"
     ]
    }
   ],
   "source": [
    "myString[11] # string behaves as a list\n",
    "\n",
    "x ='hgdshf'\n",
    "y=['a','h', 'e']\n",
    "\n",
    "print(x[2], y[2])"
   ]
  },
  {
   "cell_type": "code",
   "execution_count": 9,
   "metadata": {},
   "outputs": [
    {
     "name": "stdout",
     "output_type": "stream",
     "text": [
      "h\n",
      "g\n",
      "d\n"
     ]
    }
   ],
   "source": [
    "for k in range(len(y)):\n",
    "    print(x[k])\n",
    "    "
   ]
  },
  {
   "cell_type": "code",
   "execution_count": 11,
   "metadata": {},
   "outputs": [
    {
     "name": "stdout",
     "output_type": "stream",
     "text": [
      "a\n",
      "h\n",
      "e\n"
     ]
    }
   ],
   "source": [
    "for let in y:\n",
    "    print(let)"
   ]
  },
  {
   "cell_type": "code",
   "execution_count": 29,
   "metadata": {},
   "outputs": [
    {
     "name": "stdout",
     "output_type": "stream",
     "text": [
      "['h', 'g', 'd', 's', 'h', 'f']\n",
      "<class 'str'>\n",
      ",\n"
     ]
    }
   ],
   "source": [
    "#v = '[''g','t','y']'\n",
    "\n",
    "tmp = list(x)\n",
    "print(tmp)\n",
    "\n",
    "\n",
    "tmr = str(tmp)\n",
    "print(type(tmr))\n",
    "\n",
    "print(tmr[4])"
   ]
  },
  {
   "cell_type": "code",
   "execution_count": 23,
   "metadata": {},
   "outputs": [
    {
     "name": "stdout",
     "output_type": "stream",
     "text": [
      "h\n",
      "hg\n",
      "hgd\n",
      "hgds\n",
      "hgdsh\n",
      "hgdshf\n"
     ]
    }
   ],
   "source": [
    "c=''\n",
    "for items in tmp:\n",
    "    c = c + items # + --> concatenation\n",
    "    print(c)\n",
    "\n",
    "#print(c)"
   ]
  },
  {
   "cell_type": "code",
   "execution_count": 31,
   "metadata": {},
   "outputs": [
    {
     "name": "stdout",
     "output_type": "stream",
     "text": [
      "hgdshf\n"
     ]
    }
   ],
   "source": [
    "def str_typcast(s):\n",
    "    tar_str = ''\n",
    "    for items in s:\n",
    "        tar_str = tar_str + items\n",
    "    return tar_str\n",
    "\n",
    "print(str_typcast(tmp))"
   ]
  },
  {
   "cell_type": "code",
   "execution_count": 125,
   "metadata": {},
   "outputs": [
    {
     "name": "stdout",
     "output_type": "stream",
     "text": [
      "i index:  2\n",
      "g index:  4\n",
      "  index:  6\n",
      "o index:  8\n",
      "  index:  10\n",
      "r index:  12\n",
      "e index:  14\n",
      "w index:  16\n",
      "a index:  18\n",
      "  index:  20\n",
      "t index:  22\n",
      "s index:  24\n",
      "e index:  26\n",
      "s index:  28\n"
     ]
    }
   ],
   "source": [
    "# printing even indexed charecters\n",
    "for i in range(len(myString)):\n",
    "    \n",
    "    if i > 0 and i%2==0:\n",
    "        print(myString[i], 'index: ', i)\n",
    "    "
   ]
  },
  {
   "cell_type": "code",
   "execution_count": 126,
   "metadata": {},
   "outputs": [
    {
     "name": "stdout",
     "output_type": "stream",
     "text": [
      "i index:  2\n",
      "g index:  4\n",
      "o index:  8\n",
      "r index:  12\n",
      "e index:  14\n",
      "w index:  16\n",
      "a index:  18\n",
      "t index:  22\n",
      "s index:  24\n",
      "e index:  26\n",
      "s index:  28\n"
     ]
    }
   ],
   "source": [
    "for i in range(len(myString)):\n",
    "    \n",
    "    if i > 0 and i%2==0 and myString[i] != ' ':\n",
    "        print(myString[i], 'index: ', i)"
   ]
  },
  {
   "cell_type": "markdown",
   "metadata": {},
   "source": [
    "### string enumerate( ) method"
   ]
  },
  {
   "cell_type": "code",
   "execution_count": 4,
   "metadata": {},
   "outputs": [
    {
     "name": "stdout",
     "output_type": "stream",
     "text": [
      "list(enumerate(myString)) = \n",
      " [(0, 'T'), (1, 'h'), (2, 'i'), (3, 'n'), (4, 'g'), (5, 's'), (6, ' '), (7, 'n'), (8, 'o'), (9, 't'), (10, ' '), (11, 't'), (12, 'r'), (13, 'u'), (14, 'e'), (15, ' '), (16, 'w'), (17, 'h'), (18, 'a'), (19, 't'), (20, ' '), (21, 'i'), (22, 't'), (23, ' '), (24, 's'), (25, 'e'), (26, 'e'), (27, 'm'), (28, 's')]\n",
      "\n",
      "lenght of the string =  29\n"
     ]
    }
   ],
   "source": [
    "myString = 'Things not true what it seems'\n",
    "# enumerate\n",
    "\n",
    "list_enum = list(enumerate(myString))\n",
    "print('list(enumerate(myString)) = \\n', list_enum)\n",
    "print('\\nlenght of the string = ', len(myString))"
   ]
  },
  {
   "cell_type": "code",
   "execution_count": 14,
   "metadata": {},
   "outputs": [
    {
     "name": "stdout",
     "output_type": "stream",
     "text": [
      "before:  [(0, 'T'), (1, 'h'), (2, 'i'), (3, 'n'), (4, 'g'), (5, 's'), (6, ' '), (7, 'n'), (8, 'o'), (9, 't'), (10, ' '), (11, 't'), (12, 'r'), (13, 'u'), (14, 'e'), (15, ' '), (16, 'w'), (17, 'h'), (18, 'a'), (19, 't'), (20, ' '), (21, 'i'), (22, 't'), (23, ' '), (24, 's'), (25, 'e'), (26, 'e'), (27, 'm'), (28, 's')]\n",
      "\n",
      "after:  [(0, 'T'), (1, 'h'), (2, 'i'), (3, 'n'), (4, 'g'), (5, 's'), (7, 'n'), (8, 'o'), (9, 't'), (11, 't'), (12, 'r'), (13, 'u'), (14, 'e'), (16, 'w'), (17, 'h'), (18, 'a'), (19, 't'), (21, 'i'), (22, 't'), (24, 's'), (25, 'e'), (26, 'e'), (27, 'm'), (28, 's')]\n"
     ]
    }
   ],
   "source": [
    "myString = 'Things not true what it seems'\n",
    "# enumerate\n",
    "\n",
    "list_enum = list(enumerate(myString))\n",
    "\n",
    "print(\"before: \", list_enum)\n",
    "\n",
    "res = []\n",
    "\n",
    "''' \n",
    "print('list(enumerate(myString)) = \\n', list_enum)\n",
    "print('\\nlenght of the string = ', len(myString))\n",
    "'''\n",
    "\n",
    "for items in list_enum:\n",
    "    if items[1] == ' ':\n",
    "        list_enum.remove(items)\n",
    "\n",
    "print(\"\\nafter: \", list_enum)\n"
   ]
  },
  {
   "cell_type": "code",
   "execution_count": 129,
   "metadata": {},
   "outputs": [
    {
     "data": {
      "text/plain": [
       "tuple"
      ]
     },
     "execution_count": 129,
     "metadata": {},
     "output_type": "execute_result"
    }
   ],
   "source": [
    "type(list_enum[11])"
   ]
  },
  {
   "cell_type": "markdown",
   "metadata": {},
   "source": [
    "### string slicing"
   ]
  },
  {
   "cell_type": "code",
   "execution_count": 130,
   "metadata": {},
   "outputs": [
    {
     "data": {
      "text/plain": [
       "'hnsnttu '"
      ]
     },
     "execution_count": 130,
     "metadata": {},
     "output_type": "execute_result"
    }
   ],
   "source": [
    "myString[1:17:2]"
   ]
  },
  {
   "cell_type": "markdown",
   "metadata": {},
   "source": [
    "### replace the space with @"
   ]
  },
  {
   "cell_type": "code",
   "execution_count": 32,
   "metadata": {},
   "outputs": [
    {
     "data": {
      "text/plain": [
       "'My n*me is Arun*bh* S*h* *nd I *m te*ching Python progr*mming l*ngu*ge..!!'"
      ]
     },
     "execution_count": 32,
     "metadata": {},
     "output_type": "execute_result"
    }
   ],
   "source": [
    "myString.replace(\" \", \"@\")\n",
    "\n",
    "f = 'My name is Arunabha Saha and I am teaching Python programming language..!!'\n",
    "f.replace('a','*')\n"
   ]
  },
  {
   "cell_type": "code",
   "execution_count": 17,
   "metadata": {},
   "outputs": [
    {
     "name": "stdout",
     "output_type": "stream",
     "text": [
      "Things not true what it seems\n"
     ]
    }
   ],
   "source": [
    "print(myString)"
   ]
  },
  {
   "cell_type": "markdown",
   "metadata": {},
   "source": [
    "### raw stings printing"
   ]
  },
  {
   "cell_type": "code",
   "execution_count": 18,
   "metadata": {},
   "outputs": [
    {
     "name": "stdout",
     "output_type": "stream",
     "text": [
      "C:\\img\n"
     ]
    }
   ],
   "source": [
    "print(\"C:\\\\img\")"
   ]
  },
  {
   "cell_type": "code",
   "execution_count": 19,
   "metadata": {},
   "outputs": [
    {
     "name": "stdout",
     "output_type": "stream",
     "text": [
      "C:\\\\img\n"
     ]
    }
   ],
   "source": [
    "print(r\"C:\\\\img\")"
   ]
  },
  {
   "cell_type": "code",
   "execution_count": 135,
   "metadata": {},
   "outputs": [
    {
     "name": "stdout",
     "output_type": "stream",
     "text": [
      "what's up\n"
     ]
    }
   ],
   "source": [
    "print(\"what's up\")"
   ]
  },
  {
   "cell_type": "code",
   "execution_count": 136,
   "metadata": {},
   "outputs": [
    {
     "name": "stdout",
     "output_type": "stream",
     "text": [
      "what's up\n"
     ]
    }
   ],
   "source": [
    "print('what\\'s up')"
   ]
  },
  {
   "cell_type": "markdown",
   "metadata": {},
   "source": [
    "### unicode strings printing\n",
    "\n",
    "mostly used for non-english language, with accents"
   ]
  },
  {
   "cell_type": "code",
   "execution_count": 34,
   "metadata": {},
   "outputs": [
    {
     "name": "stdout",
     "output_type": "stream",
     "text": [
      "hello dogg\n"
     ]
    }
   ],
   "source": [
    "print(u\"hello dogg\")"
   ]
  },
  {
   "cell_type": "markdown",
   "metadata": {},
   "source": [
    "## String methods"
   ]
  },
  {
   "cell_type": "markdown",
   "metadata": {},
   "source": [
    "#### capitalize"
   ]
  },
  {
   "cell_type": "code",
   "execution_count": 37,
   "metadata": {},
   "outputs": [
    {
     "name": "stdout",
     "output_type": "stream",
     "text": [
      "hello this is for testing purpose..!!\n"
     ]
    }
   ],
   "source": [
    "x = 'hello this is for testing purpose..!!'\n",
    "print(x)"
   ]
  },
  {
   "cell_type": "code",
   "execution_count": 38,
   "metadata": {},
   "outputs": [
    {
     "data": {
      "text/plain": [
       "'Hello this is for testing purpose..!!'"
      ]
     },
     "execution_count": 38,
     "metadata": {},
     "output_type": "execute_result"
    }
   ],
   "source": [
    "x.capitalize()"
   ]
  },
  {
   "cell_type": "code",
   "execution_count": 39,
   "metadata": {},
   "outputs": [
    {
     "data": {
      "text/plain": [
       "'hello this is for testing purpose..!!'"
      ]
     },
     "execution_count": 39,
     "metadata": {},
     "output_type": "execute_result"
    }
   ],
   "source": [
    "x"
   ]
  },
  {
   "cell_type": "code",
   "execution_count": 43,
   "metadata": {},
   "outputs": [
    {
     "name": "stdout",
     "output_type": "stream",
     "text": [
      "HELLO THIS IS FOR TESTING PURPOSE..!!"
     ]
    }
   ],
   "source": [
    "# to make all letters capitalize\n",
    "for letters in x:\n",
    "    print(letters.capitalize(), end='')"
   ]
  },
  {
   "cell_type": "code",
   "execution_count": 49,
   "metadata": {},
   "outputs": [
    {
     "name": "stdout",
     "output_type": "stream",
     "text": [
      "Hello this is for testing purpose..!!Hello this is for testing purpose..!!Hello this is for testing purpose..!!Hello this is for testing purpose..!!Hello this is for testing purpose..!!Hello this is for testing purpose..!!Hello this is for testing purpose..!!Hello this is for testing purpose..!!Hello this is for testing purpose..!!Hello this is for testing purpose..!!Hello this is for testing purpose..!!Hello this is for testing purpose..!!Hello this is for testing purpose..!!Hello this is for testing purpose..!!Hello this is for testing purpose..!!Hello this is for testing purpose..!!Hello this is for testing purpose..!!Hello this is for testing purpose..!!Hello this is for testing purpose..!!Hello this is for testing purpose..!!Hello this is for testing purpose..!!Hello this is for testing purpose..!!Hello this is for testing purpose..!!Hello this is for testing purpose..!!Hello this is for testing purpose..!!Hello this is for testing purpose..!!Hello this is for testing purpose..!!Hello this is for testing purpose..!!Hello this is for testing purpose..!!Hello this is for testing purpose..!!Hello this is for testing purpose..!!Hello this is for testing purpose..!!Hello this is for testing purpose..!!Hello this is for testing purpose..!!Hello this is for testing purpose..!!Hello this is for testing purpose..!!Hello this is for testing purpose..!!\n"
     ]
    }
   ],
   "source": [
    "# need to check --> bug**\n",
    "def make_all_cap(t):\n",
    "    p=''\n",
    "    for letter in t:\n",
    "        p = p + t.capitalize()\n",
    "    return p\n",
    "\n",
    "print(make_all_cap(x))"
   ]
  },
  {
   "cell_type": "code",
   "execution_count": 43,
   "metadata": {},
   "outputs": [
    {
     "data": {
      "text/plain": [
       "'hello this is for testing purpose..!!'"
      ]
     },
     "execution_count": 43,
     "metadata": {},
     "output_type": "execute_result"
    }
   ],
   "source": [
    "p"
   ]
  },
  {
   "cell_type": "code",
   "execution_count": 63,
   "metadata": {},
   "outputs": [
    {
     "name": "stdout",
     "output_type": "stream",
     "text": [
      "Hello This Is For Testing Purpose..!!"
     ]
    }
   ],
   "source": [
    "# make first letter of every word capital\n",
    "for k in range(len(x)):\n",
    "    if k == 0:\n",
    "        print(x[k].capitalize(), end=\"\")\n",
    "    elif x[k-1]==\" \":\n",
    "        print(x[k].capitalize(), end=\"\")\n",
    "    else:\n",
    "        print(x[k], end=\"\")"
   ]
  },
  {
   "cell_type": "markdown",
   "metadata": {},
   "source": [
    "#### center( )\n",
    "\n",
    "This method returns centered in a string of length width."
   ]
  },
  {
   "cell_type": "code",
   "execution_count": 141,
   "metadata": {},
   "outputs": [
    {
     "name": "stdout",
     "output_type": "stream",
     "text": [
      "******hello this is for testing purpose..!!*******\n"
     ]
    }
   ],
   "source": [
    "print(x.center(50, '*'))"
   ]
  },
  {
   "cell_type": "code",
   "execution_count": 72,
   "metadata": {},
   "outputs": [
    {
     "ename": "TypeError",
     "evalue": "The fill character must be exactly one character long",
     "output_type": "error",
     "traceback": [
      "\u001b[0;31m---------------------------------------------------------------------------\u001b[0m",
      "\u001b[0;31mTypeError\u001b[0m                                 Traceback (most recent call last)",
      "\u001b[0;32m<ipython-input-72-68a15d96622c>\u001b[0m in \u001b[0;36m<module>\u001b[0;34m\u001b[0m\n\u001b[0;32m----> 1\u001b[0;31m \u001b[0mprint\u001b[0m\u001b[0;34m(\u001b[0m\u001b[0mx\u001b[0m\u001b[0;34m.\u001b[0m\u001b[0mcenter\u001b[0m\u001b[0;34m(\u001b[0m\u001b[0;36m50\u001b[0m\u001b[0;34m,\u001b[0m \u001b[0;34m'**'\u001b[0m\u001b[0;34m)\u001b[0m\u001b[0;34m)\u001b[0m\u001b[0;34m\u001b[0m\u001b[0;34m\u001b[0m\u001b[0m\n\u001b[0m",
      "\u001b[0;31mTypeError\u001b[0m: The fill character must be exactly one character long"
     ]
    }
   ],
   "source": [
    "print(x.center(50, '**'))"
   ]
  },
  {
   "cell_type": "markdown",
   "metadata": {},
   "source": [
    "#### lower"
   ]
  },
  {
   "cell_type": "code",
   "execution_count": 73,
   "metadata": {},
   "outputs": [],
   "source": [
    "y = \"ALL ARE CAPITALS\""
   ]
  },
  {
   "cell_type": "code",
   "execution_count": 75,
   "metadata": {},
   "outputs": [
    {
     "name": "stdout",
     "output_type": "stream",
     "text": [
      "all are capitals\n"
     ]
    }
   ],
   "source": [
    "print(y.lower())"
   ]
  },
  {
   "cell_type": "markdown",
   "metadata": {},
   "source": [
    "#### endswith"
   ]
  },
  {
   "cell_type": "code",
   "execution_count": 88,
   "metadata": {},
   "outputs": [
    {
     "name": "stdout",
     "output_type": "stream",
     "text": [
      "hello this is for testing purpose..!!\n"
     ]
    },
    {
     "data": {
      "text/plain": [
       "37"
      ]
     },
     "execution_count": 88,
     "metadata": {},
     "output_type": "execute_result"
    }
   ],
   "source": [
    "print(x)\n",
    "len(x)"
   ]
  },
  {
   "cell_type": "code",
   "execution_count": 142,
   "metadata": {},
   "outputs": [],
   "source": [
    "sfx = '!!'"
   ]
  },
  {
   "cell_type": "code",
   "execution_count": 143,
   "metadata": {},
   "outputs": [
    {
     "name": "stdout",
     "output_type": "stream",
     "text": [
      "False\n"
     ]
    }
   ],
   "source": [
    "print(x.endswith(sfx))"
   ]
  },
  {
   "cell_type": "code",
   "execution_count": 150,
   "metadata": {},
   "outputs": [
    {
     "name": "stdout",
     "output_type": "stream",
     "text": [
      "True\n"
     ]
    }
   ],
   "source": [
    "tx = ('!!', 'te', '..!!')\n",
    "print(x.endswith(tx, 5, 20))"
   ]
  },
  {
   "cell_type": "code",
   "execution_count": 53,
   "metadata": {},
   "outputs": [
    {
     "name": "stdout",
     "output_type": "stream",
     "text": [
      "minions\n",
      "xmas\n",
      "mars\n",
      "SARS\n"
     ]
    }
   ],
   "source": [
    "words = ['apple', 'mango', 'banana', 'minions', 'tesla', 'xmas', 'mars', 'SARS']\n",
    "\n",
    "for items in words:\n",
    "    if items.endswith('s') or items.endswith('S'):\n",
    "        print(items)\n",
    "        "
   ]
  },
  {
   "cell_type": "code",
   "execution_count": 29,
   "metadata": {},
   "outputs": [
    {
     "name": "stdout",
     "output_type": "stream",
     "text": [
      "mango\n",
      "Minions\n",
      "mars\n"
     ]
    }
   ],
   "source": [
    "words = ['apple', 'mango', 'banana', 'Minions', 'tesla', 'xmas', 'mars']\n",
    "\n",
    "for items in words:\n",
    "    if items.startswith('m') or items.startswith('M'):\n",
    "        print(items)\n",
    "        "
   ]
  },
  {
   "cell_type": "markdown",
   "metadata": {},
   "source": [
    "#### find"
   ]
  },
  {
   "cell_type": "code",
   "execution_count": 30,
   "metadata": {},
   "outputs": [
    {
     "name": "stdout",
     "output_type": "stream",
     "text": [
      "Found..!!\n"
     ]
    }
   ],
   "source": [
    "y = \"ALL ARE CAPITALS\"\n",
    "\n",
    "if y.find('are') or y.find('ARE') or y.find('Are'):\n",
    "    print('Found..!!')\n",
    "#print(y.find('are'))"
   ]
  },
  {
   "cell_type": "code",
   "execution_count": 58,
   "metadata": {},
   "outputs": [
    {
     "name": "stdout",
     "output_type": "stream",
     "text": [
      "target MM found at  7\n"
     ]
    }
   ],
   "source": [
    "ystr = 'jhfjdviMMMMkhuiuhivud'\n",
    "\n",
    "#target = 'MMM'\n",
    "\n",
    "if target in ystr:\n",
    "    print('target MM found at ', ystr.find('MM'))\n",
    "\n"
   ]
  },
  {
   "cell_type": "code",
   "execution_count": 96,
   "metadata": {},
   "outputs": [
    {
     "name": "stdout",
     "output_type": "stream",
     "text": [
      "4\n"
     ]
    }
   ],
   "source": [
    "print(y.find('ARE'))"
   ]
  },
  {
   "cell_type": "code",
   "execution_count": 100,
   "metadata": {},
   "outputs": [
    {
     "name": "stdout",
     "output_type": "stream",
     "text": [
      "29\n"
     ]
    }
   ],
   "source": [
    "print(x.find('pose', 20, 37))"
   ]
  },
  {
   "cell_type": "markdown",
   "metadata": {},
   "source": [
    "#### index"
   ]
  },
  {
   "cell_type": "code",
   "execution_count": 101,
   "metadata": {},
   "outputs": [
    {
     "name": "stdout",
     "output_type": "stream",
     "text": [
      "8\n"
     ]
    }
   ],
   "source": [
    "print(x.index('is'))"
   ]
  },
  {
   "cell_type": "code",
   "execution_count": 102,
   "metadata": {},
   "outputs": [
    {
     "ename": "TypeError",
     "evalue": "must be str, not tuple",
     "output_type": "error",
     "traceback": [
      "\u001b[0;31m---------------------------------------------------------------------------\u001b[0m",
      "\u001b[0;31mTypeError\u001b[0m                                 Traceback (most recent call last)",
      "\u001b[0;32m<ipython-input-102-3064e504aa47>\u001b[0m in \u001b[0;36m<module>\u001b[0;34m\u001b[0m\n\u001b[1;32m      1\u001b[0m \u001b[0mtup\u001b[0m \u001b[0;34m=\u001b[0m \u001b[0;34m(\u001b[0m\u001b[0;34m'is'\u001b[0m\u001b[0;34m,\u001b[0m \u001b[0;34m'for'\u001b[0m\u001b[0;34m)\u001b[0m\u001b[0;34m\u001b[0m\u001b[0;34m\u001b[0m\u001b[0m\n\u001b[0;32m----> 2\u001b[0;31m \u001b[0mprint\u001b[0m\u001b[0;34m(\u001b[0m\u001b[0mx\u001b[0m\u001b[0;34m.\u001b[0m\u001b[0mfind\u001b[0m\u001b[0;34m(\u001b[0m\u001b[0mtup\u001b[0m\u001b[0;34m)\u001b[0m\u001b[0;34m)\u001b[0m\u001b[0;34m\u001b[0m\u001b[0;34m\u001b[0m\u001b[0m\n\u001b[0m",
      "\u001b[0;31mTypeError\u001b[0m: must be str, not tuple"
     ]
    }
   ],
   "source": [
    "tup = ('is', 'for')\n",
    "print(x.find(tup))"
   ]
  },
  {
   "cell_type": "markdown",
   "metadata": {},
   "source": [
    "#### isalnum"
   ]
  },
  {
   "cell_type": "code",
   "execution_count": 103,
   "metadata": {},
   "outputs": [
    {
     "name": "stdout",
     "output_type": "stream",
     "text": [
      "False\n"
     ]
    }
   ],
   "source": [
    "print(x.isalnum())"
   ]
  },
  {
   "cell_type": "code",
   "execution_count": 109,
   "metadata": {},
   "outputs": [
    {
     "name": "stdout",
     "output_type": "stream",
     "text": [
      "True\n",
      "False\n"
     ]
    }
   ],
   "source": [
    "alx = 'THO94ERdf'\n",
    "blx = 'THO94ERdf@'\n",
    "print(alx.isalnum())\n",
    "print(blx.isalnum()) # due to the '@'"
   ]
  },
  {
   "cell_type": "markdown",
   "metadata": {},
   "source": [
    "#### translation"
   ]
  },
  {
   "cell_type": "code",
   "execution_count": 118,
   "metadata": {
    "scrolled": true
   },
   "outputs": [
    {
     "name": "stdout",
     "output_type": "stream",
     "text": [
      "h2ll4 th3s 3s f4r t2st3ng p5rp4s2..!!\n"
     ]
    }
   ],
   "source": [
    "x = 'hello this is for testing purpose..!!'\n",
    "inp = 'aeiou'\n",
    "opt = '12345'\n",
    "tran = x.maketrans(inp,opt)\n",
    "print(x.translate(tran))"
   ]
  },
  {
   "cell_type": "code",
   "execution_count": 83,
   "metadata": {},
   "outputs": [
    {
     "name": "stdout",
     "output_type": "stream",
     "text": [
      "hello this is for testing purpose..!!\n",
      "hello this is for testing purpose..!!\n",
      "hello this is for testing purpose..!!\n",
      "hello this is for testing purpose..!!\n"
     ]
    }
   ],
   "source": [
    "# \n",
    "x = 'hello this is for testing purpose..!!'\n",
    "inp = 'aeiou'\n",
    "opt = '12345'\n",
    "\n",
    "tmp_list=[]\n",
    "\n",
    "if len(inp)==len(opt):\n",
    "    for k in range(len(inp)):\n",
    "        tmp_list.append((inp[k], opt[k]))\n",
    "    #print(tmp_list)\n",
    "    \n",
    "    for letter in x:\n",
    "        \n",
    "        if letter == 'e':\n",
    "            x.replace(letter, '*')\n",
    "            print(x)\n",
    "\n",
    "else:\n",
    "    pass\n",
    "       \n",
    "print(x)"
   ]
  },
  {
   "cell_type": "markdown",
   "metadata": {},
   "source": [
    "#### swapcase"
   ]
  },
  {
   "cell_type": "code",
   "execution_count": 119,
   "metadata": {},
   "outputs": [
    {
     "name": "stdout",
     "output_type": "stream",
     "text": [
      "HELLO THIS IS FOR TESTING PURPOSE..!!\n"
     ]
    }
   ],
   "source": [
    "print(x.swapcase())"
   ]
  },
  {
   "cell_type": "code",
   "execution_count": 120,
   "metadata": {},
   "outputs": [
    {
     "name": "stdout",
     "output_type": "stream",
     "text": [
      "HELLO THIS IS FOR TESTING PURPOSE..!!\n"
     ]
    }
   ],
   "source": [
    "print(x.upper())"
   ]
  },
  {
   "cell_type": "markdown",
   "metadata": {},
   "source": [
    "### python print format"
   ]
  },
  {
   "cell_type": "code",
   "execution_count": 121,
   "metadata": {},
   "outputs": [
    {
     "name": "stdout",
     "output_type": "stream",
     "text": [
      "\n",
      "--- Default Order ---\n",
      "John, Bill and Sean\n",
      "\n",
      "--- Positional Order ---\n",
      "Bill, John and Sean\n",
      "\n",
      "--- Keyword Order ---\n",
      "Sean, Bill and John\n"
     ]
    }
   ],
   "source": [
    "# Python string format() method\n",
    "\n",
    "# default(implicit) order\n",
    "default_order = \"{}, {} and {}\".format('John','Bill','Sean')\n",
    "print('\\n--- Default Order ---')\n",
    "print(default_order)\n",
    "\n",
    "# order using positional argument\n",
    "positional_order = \"{1}, {0} and {2}\".format('John','Bill','Sean')\n",
    "print('\\n--- Positional Order ---')\n",
    "print(positional_order)\n",
    "\n",
    "# order using keyword argument\n",
    "keyword_order = \"{s}, {b} and {j}\".format(j='John',b='Bill',s='Sean')\n",
    "print('\\n--- Keyword Order ---')\n",
    "print(keyword_order)"
   ]
  },
  {
   "cell_type": "code",
   "execution_count": 152,
   "metadata": {},
   "outputs": [
    {
     "name": "stdout",
     "output_type": "stream",
     "text": [
      "\n",
      "--- Default Order ---\n",
      "John, Bill and Sean\n"
     ]
    }
   ],
   "source": [
    "default_order = \"{}, {} and {}\".format('John','Bill','Sean')\n",
    "print('\\n--- Default Order ---')\n",
    "print(default_order)"
   ]
  },
  {
   "cell_type": "code",
   "execution_count": 156,
   "metadata": {},
   "outputs": [
    {
     "name": "stdout",
     "output_type": "stream",
     "text": [
      "dog, mad, cat\n"
     ]
    }
   ],
   "source": [
    "print(\"{d}, {m}, {c}\".format(c=\"cat\", d=\"dog\", m=\"mad\"))"
   ]
  },
  {
   "cell_type": "code",
   "execution_count": null,
   "metadata": {},
   "outputs": [],
   "source": []
  }
 ],
 "metadata": {
  "kernelspec": {
   "display_name": "Python 3 (ipykernel)",
   "language": "python",
   "name": "python3"
  },
  "language_info": {
   "codemirror_mode": {
    "name": "ipython",
    "version": 3
   },
   "file_extension": ".py",
   "mimetype": "text/x-python",
   "name": "python",
   "nbconvert_exporter": "python",
   "pygments_lexer": "ipython3",
   "version": "3.8.8"
  }
 },
 "nbformat": 4,
 "nbformat_minor": 4
}
