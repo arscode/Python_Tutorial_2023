{
 "cells": [
  {
   "cell_type": "markdown",
   "metadata": {},
   "source": [
    "# File Handling in Python"
   ]
  },
  {
   "cell_type": "code",
   "execution_count": 11,
   "metadata": {},
   "outputs": [],
   "source": [
    "# creating and writing into a file\n",
    "file = open('hello.txt','w')\n",
    "file.write(\"This file is for testing pupose..!!\\n\")\n",
    "file.write(\"Another line of text\")\n",
    "file.close()"
   ]
  },
  {
   "cell_type": "code",
   "execution_count": 12,
   "metadata": {},
   "outputs": [
    {
     "name": "stdout",
     "output_type": "stream",
     "text": [
      "This file is for testing pupose..!!\n",
      "\n",
      "Another line of text\n"
     ]
    }
   ],
   "source": [
    "# reading a file\n",
    "fp = open('hello.txt','r')\n",
    "for line in fp:\n",
    "    print(line)\n",
    "fp.close()"
   ]
  },
  {
   "cell_type": "code",
   "execution_count": 13,
   "metadata": {},
   "outputs": [],
   "source": [
    "# append text into a file\n",
    "file = open('hello.txt','a')\n",
    "file.write(\"\\n append some text \\n\")\n",
    "file.write(\"bogus\")\n",
    "file.close()"
   ]
  },
  {
   "cell_type": "code",
   "execution_count": 14,
   "metadata": {},
   "outputs": [
    {
     "name": "stdout",
     "output_type": "stream",
     "text": [
      "This file is for testing pupose..!!\n",
      "\n",
      "Another line of text\n",
      "\n",
      " append some text \n",
      "\n",
      "bogus\n"
     ]
    }
   ],
   "source": [
    "# reading a file\n",
    "fp = open('hello.txt','r')\n",
    "for line in fp:\n",
    "    print(line)"
   ]
  },
  {
   "cell_type": "code",
   "execution_count": 15,
   "metadata": {},
   "outputs": [
    {
     "name": "stdout",
     "output_type": "stream",
     "text": [
      "This file is for testing pupos\n"
     ]
    }
   ],
   "source": [
    "# controlled output from a file\n",
    "fp = open('hello.txt','r')\n",
    "print(fp.read(30))"
   ]
  },
  {
   "cell_type": "markdown",
   "metadata": {},
   "source": [
    "### reading and writing using with() method"
   ]
  },
  {
   "cell_type": "code",
   "execution_count": 26,
   "metadata": {},
   "outputs": [
    {
     "name": "stdout",
     "output_type": "stream",
     "text": [
      "New more bogus text added here...!!\n",
      "\n"
     ]
    }
   ],
   "source": [
    "# reading using with()\n",
    "with open('hello.txt') as f:\n",
    "    data = f.read()\n",
    "    print(data)"
   ]
  },
  {
   "cell_type": "code",
   "execution_count": 27,
   "metadata": {},
   "outputs": [
    {
     "ename": "ValueError",
     "evalue": "I/O operation on closed file.",
     "output_type": "error",
     "traceback": [
      "\u001b[0;31m---------------------------------------------------------------------------\u001b[0m",
      "\u001b[0;31mValueError\u001b[0m                                Traceback (most recent call last)",
      "\u001b[0;32m<ipython-input-27-835090d960c6>\u001b[0m in \u001b[0;36m<module>\u001b[0;34m\u001b[0m\n\u001b[1;32m      4\u001b[0m \u001b[0;34m\u001b[0m\u001b[0m\n\u001b[1;32m      5\u001b[0m \u001b[0;31m# for checking purpose\u001b[0m\u001b[0;34m\u001b[0m\u001b[0;34m\u001b[0m\u001b[0;34m\u001b[0m\u001b[0m\n\u001b[0;32m----> 6\u001b[0;31m \u001b[0;32mfor\u001b[0m \u001b[0mwords\u001b[0m \u001b[0;32min\u001b[0m \u001b[0mnf\u001b[0m\u001b[0;34m:\u001b[0m\u001b[0;34m\u001b[0m\u001b[0;34m\u001b[0m\u001b[0m\n\u001b[0m\u001b[1;32m      7\u001b[0m     \u001b[0mprint\u001b[0m\u001b[0;34m(\u001b[0m\u001b[0mwords\u001b[0m\u001b[0;34m)\u001b[0m\u001b[0;34m\u001b[0m\u001b[0;34m\u001b[0m\u001b[0m\n",
      "\u001b[0;31mValueError\u001b[0m: I/O operation on closed file."
     ]
    }
   ],
   "source": [
    "# writing using with()\n",
    "with open('newFile.txt','w') as nf:\n",
    "    nf.write(\"yeahh, we have done it..!!\")\n",
    "\n",
    "# for checking purpose\n",
    "for words in nf:\n",
    "    print(words)"
   ]
  },
  {
   "cell_type": "code",
   "execution_count": 18,
   "metadata": {},
   "outputs": [
    {
     "name": "stdout",
     "output_type": "stream",
     "text": [
      "['This', 'file', 'is', 'for', 'testing', 'pupose..!!']\n",
      "['Another', 'line', 'of', 'text']\n",
      "['append', 'some', 'text']\n",
      "['bogus']\n"
     ]
    }
   ],
   "source": [
    "with open('hello.txt') as f:\n",
    "    data = f.readlines()\n",
    "    for line in data:\n",
    "        word = line.split()\n",
    "        print(word)\n",
    "        "
   ]
  },
  {
   "cell_type": "markdown",
   "metadata": {},
   "source": [
    "# python program to read entire text of a file"
   ]
  },
  {
   "cell_type": "code",
   "execution_count": 28,
   "metadata": {},
   "outputs": [
    {
     "name": "stdout",
     "output_type": "stream",
     "text": [
      "New more bogus text added here...!!\n",
      "\n"
     ]
    }
   ],
   "source": [
    "def file_read(fileName):\n",
    "    textContainer = open(fileName)\n",
    "    print(textContainer.read())\n",
    "   \n",
    "\n",
    "file_read('hello.txt')"
   ]
  },
  {
   "cell_type": "markdown",
   "metadata": {},
   "source": [
    "# Reading first n lines from a file"
   ]
  },
  {
   "cell_type": "code",
   "execution_count": 29,
   "metadata": {},
   "outputs": [
    {
     "name": "stdout",
     "output_type": "stream",
     "text": [
      "\n",
      "\n",
      "According to IMD's latest bulletin, formation of low pressure associated with cyclonic circulation extending up to midtropospheric levels may turn into a depression\n",
      "\n",
      "\n",
      "\n"
     ]
    }
   ],
   "source": [
    "def file_read_nlines(fileName, numberOfLines):\n",
    "    from itertools import islice\n",
    "    with open(fileName) as fn:\n",
    "        for line in islice(fn, numberOfLines):\n",
    "            print(line)\n",
    "\n",
    "# function call\n",
    "file_read_nlines('thehindu.txt', 3)"
   ]
  },
  {
   "cell_type": "markdown",
   "metadata": {},
   "source": [
    "# append text to a file and print the file"
   ]
  },
  {
   "cell_type": "code",
   "execution_count": 34,
   "metadata": {},
   "outputs": [
    {
     "name": "stdout",
     "output_type": "stream",
     "text": [
      "\n",
      "ykjdkjndkj, cat dof, 1m 23, 45\n",
      "\n",
      "New more bogus text added here...!!\n",
      "New more bogus text added here...!!\n",
      "New more bogus text added here...!!\n",
      "New more bogus text added here...!!\n",
      "New more bogus text added here...!!\n",
      "\n"
     ]
    }
   ],
   "source": [
    "def file_read_append(fname):\n",
    "        from itertools import islice\n",
    "        with open(fname, 'a') as myfile:\n",
    "            # 'a' represenst file will open in append mode; try with 'w' an check what happens..!??\n",
    "                myfile.write(\"New more bogus text added here...!!\\n\")\n",
    "                #myfile.write(\"Java Exercises\")\n",
    "        txt = open(fname)\n",
    "        print(txt.read())\n",
    "\n",
    "file_read_append('hello.txt')"
   ]
  },
  {
   "cell_type": "markdown",
   "metadata": {},
   "source": [
    "# read a file line by line and store it in a list"
   ]
  },
  {
   "cell_type": "code",
   "execution_count": 42,
   "metadata": {},
   "outputs": [
    {
     "name": "stdout",
     "output_type": "stream",
     "text": [
      "[['\\n', \"Vizianagaram and Srikakulam district administration have set up control rooms in their respective collectors' offices and all coastal mandal headquarters to minimise the impact of heavy rains with the forecast of Indian Meteorological Department which has a given a cyclone warning, valid up to December.\\n\", '\\n', \"The control rooms (Vizianagaram-08922-276888) (Srikakulam-08942-240557) will function to monitor the rains' situation and steps to be taken to control huge damage. According to IMD's latest bulletin, formation of low pressure associated with cyclonic circulation extending up to midtropospheric levels may turn into a depression. It is likely to intensify as a cyclonic storm and move coast of North Andhra Pradesh by Saturday, December 4th, 2021.\\n\", '\\n', 'Apart from heavy rains, gales are likely to move with a speed of 70 km per hour. Vizianagaram Collector A. Suryakumari said that all the necessary precautions were taken to prevent possible damage with the impact of heavy rains. She said that fishermen of Bhogapuram and Pusapati Rega mandals were advised not to venture into the sea for the next three days as sea would be very rough as per the weather bulletins of IMD.\\n', '\\n', 'Vizianagaram Collector G.C. Kishore Kumar visited coastal villages of two mandals and directed the revenue and fisheries department officials to take necessary steps to provide shelter, food for people in case of emergency. Srikakulam Collector Shrikesh B. Lathkar said that the local control rooms were set up in mandals from Itchapuram to Ranasthalam located all along 180 km coastal areas. He said that a team of senior officials would handle the crisis which was anticipated with cyclone warning.']]\n"
     ]
    }
   ],
   "source": [
    "def file_read_store(fname):\n",
    "    line_list = []\n",
    "    with open(fname) as fn:\n",
    "        for line in fn:\n",
    "            line_list.append(fn.readlines())\n",
    "        print(line_list)\n",
    "# try to make it readable with some line gaping\n",
    "file_read_store('thehindu.txt')"
   ]
  },
  {
   "cell_type": "markdown",
   "metadata": {},
   "source": [
    "# Find the longest word from a text"
   ]
  },
  {
   "cell_type": "code",
   "execution_count": 43,
   "metadata": {},
   "outputs": [
    {
     "name": "stdout",
     "output_type": "stream",
     "text": [
      "['(Vizianagaram-08922-276888)']\n"
     ]
    }
   ],
   "source": [
    "def find_longest_word(filename):\n",
    "    with open(filename, 'r') as fn:\n",
    "              words = fn.read().split()\n",
    "    max_len = len(max(words, key=len))\n",
    "    return [word for word in words if len(word) == max_len]\n",
    "\n",
    "print(find_longest_word('thehindu.txt'))\n",
    "\n",
    "\n"
   ]
  },
  {
   "cell_type": "markdown",
   "metadata": {},
   "source": [
    "# Count the frequency of words in a file"
   ]
  },
  {
   "cell_type": "code",
   "execution_count": 45,
   "metadata": {},
   "outputs": [
    {
     "name": "stdout",
     "output_type": "stream",
     "text": [
      "Frequency of the words in the file thehindu.txt:\n",
      " Counter({'New': 5, 'more': 5, 'bogus': 5, 'text': 5, 'added': 5, 'here...!!': 5, 'ykjdkjndkj,': 1, 'cat': 1, 'dof,': 1, '1m': 1, '23,': 1, '45': 1})\n"
     ]
    }
   ],
   "source": [
    "from collections import Counter\n",
    "\n",
    "def word_frequency_count(fname):\n",
    "    with open(fname) as f:\n",
    "        return Counter(f.read().split())\n",
    "\n",
    "print(\"Frequency of the words in the file thehindu.txt:\\n\", word_frequency_count('hello.txt'))"
   ]
  },
  {
   "cell_type": "code",
   "execution_count": null,
   "metadata": {},
   "outputs": [],
   "source": [
    "\n"
   ]
  },
  {
   "cell_type": "code",
   "execution_count": null,
   "metadata": {},
   "outputs": [],
   "source": [
    "with open('thehindu.txt', 'r') as fp:\n",
    "        "
   ]
  },
  {
   "cell_type": "markdown",
   "metadata": {},
   "source": []
  }
 ],
 "metadata": {
  "kernelspec": {
   "display_name": "Python 3 (ipykernel)",
   "language": "python",
   "name": "python3"
  },
  "language_info": {
   "codemirror_mode": {
    "name": "ipython",
    "version": 3
   },
   "file_extension": ".py",
   "mimetype": "text/x-python",
   "name": "python",
   "nbconvert_exporter": "python",
   "pygments_lexer": "ipython3",
   "version": "3.8.8"
  }
 },
 "nbformat": 4,
 "nbformat_minor": 4
}
