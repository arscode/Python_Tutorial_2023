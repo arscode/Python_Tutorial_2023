{
 "cells": [
  {
   "cell_type": "markdown",
   "metadata": {},
   "source": [
    "# Pickle module"
   ]
  },
  {
   "cell_type": "markdown",
   "metadata": {},
   "source": [
    "This module widely used for serialization and deserialization of python object. Like JSON and etc."
   ]
  },
  {
   "cell_type": "markdown",
   "metadata": {},
   "source": [
    "### What can be Pickled and Unpickled\n",
    "\n",
    "The following types can be serialized and deserialized using the Pickle module:\n",
    "\n",
    "- All native datatypes supported by Python (booleans, None, integers, floats, complex numbers, strings, bytes, byte arrays)\n",
    "\n",
    "- Dictionaries, sets, lists, and tuples - as long as they contain pickleable objects\n",
    "\n",
    "- Functions and classes that are defined at the top level of a module\n",
    "\n",
    "It is important to remember that pickling is not a language-independent serialization method, therefore your pickled data can only be unpickled using Python. Moreover, it's important to make sure that objects are pickled using the same version of Python that is going to be used to unpickle them. Mixing Python versions, in this case, can cause many problems.\n",
    "\n",
    "Additionally, functions are pickled by their name references, and not by their value. The resulting pickle does not contain information on the function's code or attributes. Therefore, you have to make sure that the environment where the function is unpickled is able to import the function. In other words, if we pickle a function and then unpickle it in an environment where it's either not defined or not imported, an exception will be raised."
   ]
  },
  {
   "cell_type": "markdown",
   "metadata": {},
   "source": [
    "## Pickling a python list"
   ]
  },
  {
   "cell_type": "code",
   "execution_count": 8,
   "metadata": {},
   "outputs": [],
   "source": [
    "import pickle\n",
    "\n",
    "test_list = ['cucumber', 'pumpkin', 'carrot', 'tomato', 'broccoli']\n",
    "\n",
    "with open('test_pickle.pkl', 'wb') as pickle_out:\n",
    "    pickle.dump(test_list, pickle_out)"
   ]
  },
  {
   "cell_type": "markdown",
   "metadata": {},
   "source": [
    "## Unpickling a python list"
   ]
  },
  {
   "cell_type": "code",
   "execution_count": 9,
   "metadata": {},
   "outputs": [
    {
     "name": "stdout",
     "output_type": "stream",
     "text": [
      "['cucumber', 'pumpkin', 'carrot', 'tomato', 'broccoli']\n"
     ]
    }
   ],
   "source": [
    "import pickle\n",
    "\n",
    "with open('test_pickle.pkl', 'rb') as pickle_in:\n",
    "    unpickled_list = pickle.load(pickle_in)\n",
    "\n",
    "print(unpickled_list)"
   ]
  },
  {
   "cell_type": "markdown",
   "metadata": {},
   "source": [
    "## pickling and unpickling custom objects"
   ]
  },
  {
   "cell_type": "code",
   "execution_count": 10,
   "metadata": {},
   "outputs": [
    {
     "name": "stdout",
     "output_type": "stream",
     "text": [
      "yellow\n"
     ]
    }
   ],
   "source": [
    "import pickle\n",
    "\n",
    "class Veggy():\n",
    "    def __init__(self):\n",
    "        self.color = ''\n",
    "    def set_color(self, color):\n",
    "        self.color = color\n",
    "\n",
    "cucumber = Veggy()\n",
    "cucumber.set_color('yellow')\n",
    "\n",
    "with open('veggy_pickle.pkl', 'wb') as pickle_out:\n",
    "    pickle.dump(cucumber, pickle_out)\n",
    "\n",
    "with open('veggy_pickle.pkl', 'rb') as pickle_in:\n",
    "    unpickled_cucumber = pickle.load(pickle_in)\n",
    "\n",
    "print(unpickled_cucumber.color)"
   ]
  },
  {
   "cell_type": "markdown",
   "metadata": {},
   "source": [
    "we can only unpickle the object in an environment where the class Veggy is either defined or imported. If we create a new script and try to unpickle the object without importing the Veggy class, we'll get an \"AttributeError\"."
   ]
  },
  {
   "cell_type": "code",
   "execution_count": 11,
   "metadata": {},
   "outputs": [
    {
     "ename": "AttributeError",
     "evalue": "'list' object has no attribute 'color'",
     "output_type": "error",
     "traceback": [
      "\u001b[0;31m---------------------------------------------------------------------------\u001b[0m",
      "\u001b[0;31mAttributeError\u001b[0m                            Traceback (most recent call last)",
      "\u001b[0;32m<ipython-input-11-208fa61e5015>\u001b[0m in \u001b[0;36m<module>\u001b[0;34m\u001b[0m\n\u001b[1;32m      4\u001b[0m     \u001b[0munpickled_cucumber\u001b[0m \u001b[0;34m=\u001b[0m \u001b[0mpickle\u001b[0m\u001b[0;34m.\u001b[0m\u001b[0mload\u001b[0m\u001b[0;34m(\u001b[0m\u001b[0mpickle_in\u001b[0m\u001b[0;34m)\u001b[0m\u001b[0;34m\u001b[0m\u001b[0;34m\u001b[0m\u001b[0m\n\u001b[1;32m      5\u001b[0m \u001b[0;34m\u001b[0m\u001b[0m\n\u001b[0;32m----> 6\u001b[0;31m \u001b[0mprint\u001b[0m\u001b[0;34m(\u001b[0m\u001b[0munpickled_cucumber\u001b[0m\u001b[0;34m.\u001b[0m\u001b[0mcolor\u001b[0m\u001b[0;34m)\u001b[0m\u001b[0;34m\u001b[0m\u001b[0;34m\u001b[0m\u001b[0m\n\u001b[0m",
      "\u001b[0;31mAttributeError\u001b[0m: 'list' object has no attribute 'color'"
     ]
    }
   ],
   "source": [
    "import pickle\n",
    "\n",
    "with open('test_pickle.pkl', 'rb') as pickle_in:\n",
    "    unpickled_cucumber = pickle.load(pickle_in)\n",
    "\n",
    "print(unpickled_cucumber.color)"
   ]
  },
  {
   "cell_type": "markdown",
   "metadata": {},
   "source": [
    "#### Write a menu driven program in Python that asks the user to add, display, and search records of employee stored in a binary file. The employee record contains employee code, name and salary. It should be stored in a list object. Your program should pickle the object and save it to a binary file."
   ]
  },
  {
   "cell_type": "code",
   "execution_count": 14,
   "metadata": {},
   "outputs": [
    {
     "name": "stdout",
     "output_type": "stream",
     "text": [
      "Menu\n",
      "1. Add Record\n",
      "2. Display Records\n",
      "3. Search a Record\n",
      "4. Exit\n",
      "Enter choice(1-4): 1\n",
      "\n",
      "Enter Employee code: 12\n",
      "Enter Employee name: Arunabha Saha\n",
      "Enter salary: 25000\n",
      "\n",
      "Menu\n",
      "1. Add Record\n",
      "2. Display Records\n",
      "3. Search a Record\n",
      "4. Exit\n",
      "Enter choice(1-4): 1\n",
      "\n",
      "Enter Employee code: 11\n",
      "Enter Employee name: Ram Ghosh\n",
      "Enter salary: 20000\n",
      "\n",
      "Menu\n",
      "1. Add Record\n",
      "2. Display Records\n",
      "3. Search a Record\n",
      "4. Exit\n",
      "Enter choice(1-4): 2\n",
      "\n",
      "Employee code: 12\n",
      "Employee name: Arunabha Saha\n",
      "Salary: 12000\n",
      "\n",
      "Employee code: 123\n",
      "Employee name: Arunabha Saha\n",
      "Salary: 20000\n",
      "\n",
      "Employee code: 123\n",
      "Employee name: Arunabha Saha\n",
      "Salary: 25000\n",
      "\n",
      "Employee code: 12\n",
      "Employee name: Arunabha Saha\n",
      "Salary: 25000\n",
      "\n",
      "Employee code: 11\n",
      "Employee name: Ram Ghosh\n",
      "Salary: 20000\n",
      "\n",
      "Menu\n",
      "1. Add Record\n",
      "2. Display Records\n",
      "3. Search a Record\n",
      "4. Exit\n",
      "Enter choice(1-4): 3\n",
      "\n",
      "Enter employee code to search: 11\n",
      "Employee code: 11\n",
      "Employee name: Ram Ghosh\n",
      "Salary: 20000\n",
      "\n",
      "Menu\n",
      "1. Add Record\n",
      "2. Display Records\n",
      "3. Search a Record\n",
      "4. Exit\n",
      "Enter choice(1-4): 4\n",
      "\n"
     ]
    }
   ],
   "source": [
    "import pickle\n",
    "\n",
    "def set_data():\n",
    "    empcode = int(input('Enter Employee code: '))\n",
    "    name = input('Enter Employee name: ')\n",
    "    salary = int(input('Enter salary: '))\n",
    "    print()\n",
    "    \n",
    "    #create a list\n",
    "    employee = [empcode,name,salary]\n",
    "    \n",
    "    return employee\n",
    "\n",
    "\n",
    "def display_data(employee):\n",
    "    print('Employee code:', employee[0])\n",
    "    print('Employee name:', employee[1])\n",
    "    print('Salary:', employee[2])\n",
    "    print()\n",
    "\n",
    "\n",
    "def write_record():\n",
    "    #open file in binary mode for writing.\n",
    "    outfile = open('emp.dat', 'ab')\n",
    "\n",
    "    #serialize the object and writing to file\n",
    "    pickle.dump(set_data(), outfile)\n",
    "\n",
    "    #close the file\n",
    "    outfile.close()\n",
    "\n",
    "\n",
    "def read_records():\n",
    "    #open file in binary mode for reading\n",
    "    infile = open('emp.dat', 'rb')\n",
    "\n",
    "    #read to the end of file.\n",
    "    while True:\n",
    "        try:\n",
    "            #reading the oject from file\n",
    "            employee = pickle.load(infile)\n",
    "\n",
    "            #display the object\n",
    "            display_data(employee)\n",
    "        except EOFError:\n",
    "            break\n",
    "\n",
    "    #close the file\n",
    "    infile.close()\n",
    "\n",
    "def search_record():\n",
    "    infile = open('emp.dat', 'rb')\n",
    "    empcode = int(input('Enter employee code to search: '))\n",
    "    flag = False\n",
    "    \n",
    "    #read to the end of file.\n",
    "    while True:\n",
    "        try:\n",
    "            #reading the oject from file\n",
    "            employee = pickle.load(infile)\n",
    "\n",
    "            #display record if found and set flag\n",
    "            if employee[0] == empcode:\n",
    "                display_data(employee)\n",
    "                flag = True\n",
    "                break\n",
    "            \n",
    "        except EOFError:\n",
    "            break\n",
    "\n",
    "    if flag == False:\n",
    "        print('Record not Found')\n",
    "        print()\n",
    "        \n",
    "    #close the file\n",
    "    infile.close()\n",
    "\n",
    "def show_choices():\n",
    "    print('Menu')\n",
    "    print('1. Add Record')\n",
    "    print('2. Display Records')\n",
    "    print('3. Search a Record')\n",
    "    print('4. Exit')\n",
    "\n",
    "def main():\n",
    "    while(True):\n",
    "        show_choices()\n",
    "        choice = input('Enter choice(1-4): ')\n",
    "        print()\n",
    "        \n",
    "        if choice == '1':\n",
    "            write_record()\n",
    "            \n",
    "        elif choice == '2':\n",
    "            read_records()\n",
    "\n",
    "        elif choice == '3':\n",
    "            search_record()\n",
    "\n",
    "        elif choice == '4':\n",
    "            break\n",
    "        \n",
    "        else:\n",
    "            print('Invalid input')\n",
    "            \n",
    "#call the main function.\n",
    "main()"
   ]
  },
  {
   "cell_type": "markdown",
   "metadata": {},
   "source": [
    "Task: Modify the above program using class and create employee object. Use setter and getter method for assign and retrive information respectively."
   ]
  },
  {
   "cell_type": "code",
   "execution_count": null,
   "metadata": {},
   "outputs": [],
   "source": []
  }
 ],
 "metadata": {
  "kernelspec": {
   "display_name": "Python 3 (ipykernel)",
   "language": "python",
   "name": "python3"
  },
  "language_info": {
   "codemirror_mode": {
    "name": "ipython",
    "version": 3
   },
   "file_extension": ".py",
   "mimetype": "text/x-python",
   "name": "python",
   "nbconvert_exporter": "python",
   "pygments_lexer": "ipython3",
   "version": "3.8.8"
  }
 },
 "nbformat": 4,
 "nbformat_minor": 4
}
