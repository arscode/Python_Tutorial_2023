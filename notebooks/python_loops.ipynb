{
 "cells": [
  {
   "cell_type": "markdown",
   "metadata": {},
   "source": [
    "# Python Loop constructs & User Input"
   ]
  },
  {
   "cell_type": "markdown",
   "metadata": {},
   "source": [
    "#### Topics\n",
    "- loops\n",
    "- user input"
   ]
  },
  {
   "cell_type": "markdown",
   "metadata": {},
   "source": [
    "### debuging mode: assert"
   ]
  },
  {
   "cell_type": "code",
   "execution_count": 187,
   "metadata": {},
   "outputs": [
    {
     "ename": "AssertionError",
     "evalue": "x should be 'hello'",
     "output_type": "error",
     "traceback": [
      "\u001b[0;31m---------------------------------------------------------------------------\u001b[0m",
      "\u001b[0;31mAssertionError\u001b[0m                            Traceback (most recent call last)",
      "\u001b[0;32m<ipython-input-187-a13cd6e9aadd>\u001b[0m in \u001b[0;36m<module>\u001b[0;34m\u001b[0m\n\u001b[1;32m      2\u001b[0m \u001b[0;34m\u001b[0m\u001b[0m\n\u001b[1;32m      3\u001b[0m \u001b[0;31m#if condition returns False, AssertionError is raised:\u001b[0m\u001b[0;34m\u001b[0m\u001b[0;34m\u001b[0m\u001b[0;34m\u001b[0m\u001b[0m\n\u001b[0;32m----> 4\u001b[0;31m \u001b[0;32massert\u001b[0m \u001b[0mx\u001b[0m \u001b[0;34m==\u001b[0m \u001b[0;34m\"goodbye\"\u001b[0m\u001b[0;34m,\u001b[0m \u001b[0;34m\"x should be 'hello'\"\u001b[0m\u001b[0;34m\u001b[0m\u001b[0;34m\u001b[0m\u001b[0m\n\u001b[0m",
      "\u001b[0;31mAssertionError\u001b[0m: x should be 'hello'"
     ]
    }
   ],
   "source": [
    "x = \"hello\"\n",
    "\n",
    "#if condition returns False, AssertionError is raised:\n",
    "assert x == \"goodbye\", \"x should be 'hello'\""
   ]
  },
  {
   "cell_type": "markdown",
   "metadata": {},
   "source": [
    "### for loop"
   ]
  },
  {
   "cell_type": "code",
   "execution_count": 22,
   "metadata": {},
   "outputs": [
    {
     "name": "stdout",
     "output_type": "stream",
     "text": [
      "23\n",
      "cat\n",
      "mango\n",
      "2.3\n",
      "0.12\n"
     ]
    }
   ],
   "source": [
    "s = [23, 'cat', 'mango', 2.3, 0.12, [1,2,'hello'] ]\n",
    "for items in s:\n",
    "    #print(items)\n",
    "    if type(items)!= list:\n",
    "        print(items)"
   ]
  },
  {
   "cell_type": "markdown",
   "metadata": {},
   "source": [
    "## while loops"
   ]
  },
  {
   "cell_type": "code",
   "execution_count": 189,
   "metadata": {},
   "outputs": [
    {
     "name": "stdout",
     "output_type": "stream",
     "text": [
      "0\n",
      "1\n",
      "4\n",
      "9\n",
      "16\n",
      "25\n",
      "36\n",
      "49\n",
      "64\n",
      "81\n",
      "final i value: 10\n"
     ]
    }
   ],
   "source": [
    "num = 10\n",
    "i = 0\n",
    "\n",
    "while i < num:\n",
    "    print(i**2)\n",
    "    #print(i)\n",
    "    i += 1\n",
    "\n",
    "print('final i value: %d' % i)"
   ]
  },
  {
   "cell_type": "code",
   "execution_count": 197,
   "metadata": {},
   "outputs": [
    {
     "name": "stdout",
     "output_type": "stream",
     "text": [
      "ok\n",
      "Loop end..!!\n"
     ]
    }
   ],
   "source": [
    "# Risk: infinite loop\n",
    "\n",
    "while num:\n",
    "    print('ok')\n",
    "    break # loop breaker\n",
    "    print('kj') # this will not get printed\n",
    "print('Loop end..!!')"
   ]
  },
  {
   "cell_type": "code",
   "execution_count": 203,
   "metadata": {},
   "outputs": [
    {
     "name": "stdout",
     "output_type": "stream",
     "text": [
      "5\n",
      "5\n",
      "5\n",
      "5\n",
      "5\n",
      "5\n",
      "5\n",
      "end loop\n"
     ]
    }
   ],
   "source": [
    "num = 5\n",
    "cnt = 0\n",
    "while num:\n",
    "    cnt += 1\n",
    "    if cnt < 8:\n",
    "        print(num)\n",
    "    # this part saves the infinite loop: loop breaker\n",
    "    else:\n",
    "        print('end loop')\n",
    "        break\n",
    "    \n",
    "\n",
    "        "
   ]
  },
  {
   "cell_type": "code",
   "execution_count": 215,
   "metadata": {},
   "outputs": [],
   "source": [
    "# another kind of inifinte loop\n",
    "y = True\n",
    "while y==True:\n",
    "    pass\n",
    "    break # loop breaker"
   ]
  },
  {
   "cell_type": "code",
   "execution_count": 213,
   "metadata": {},
   "outputs": [
    {
     "name": "stdout",
     "output_type": "stream",
     "text": [
      "[1, 2, 4, 3, 5, 8]\n"
     ]
    }
   ],
   "source": [
    "x = [1,2,4,3,5,8]\n",
    "\n",
    "while x:\n",
    "    print(x)\n",
    "    pass # pass is used fro wrtiing the skeleton of code, just stop raising error..!!\n",
    "    break"
   ]
  },
  {
   "cell_type": "code",
   "execution_count": 214,
   "metadata": {},
   "outputs": [],
   "source": [
    "for numbers in x:\n",
    "    pass\n",
    "    pass\n",
    "    # Mr. X will write the code"
   ]
  },
  {
   "cell_type": "code",
   "execution_count": 78,
   "metadata": {},
   "outputs": [
    {
     "name": "stdout",
     "output_type": "stream",
     "text": [
      "more than 3\n",
      "more than 3\n",
      "more than 3\n",
      "more than 3\n"
     ]
    }
   ],
   "source": [
    "x = [1,2,4,3,5,8]\n",
    "\n",
    "for numbers in x:\n",
    "    while numbers >= 3:\n",
    "        print('more than 3')\n",
    "        break"
   ]
  },
  {
   "cell_type": "code",
   "execution_count": 216,
   "metadata": {},
   "outputs": [],
   "source": [
    "j = 0\n",
    "while j > 5:\n",
    "    j += 1\n",
    "    print(j)\n",
    "    \n",
    "    "
   ]
  },
  {
   "cell_type": "code",
   "execution_count": 104,
   "metadata": {},
   "outputs": [
    {
     "name": "stdout",
     "output_type": "stream",
     "text": [
      "1\n",
      "2\n",
      "3\n",
      "4\n",
      "5\n"
     ]
    }
   ],
   "source": [
    "j = 0\n",
    "while j < 5:\n",
    "    if j >= 5:\n",
    "        print(j)\n",
    "    else:\n",
    "        j +=1\n",
    "        print(j)\n",
    "\n",
    "#print(j)"
   ]
  },
  {
   "cell_type": "markdown",
   "metadata": {},
   "source": [
    "### while-else loop"
   ]
  },
  {
   "cell_type": "code",
   "execution_count": 223,
   "metadata": {},
   "outputs": [
    {
     "name": "stdout",
     "output_type": "stream",
     "text": [
      "k less than 0\n",
      "k less than 0\n",
      "k less than 0\n",
      "k less than 0\n",
      "k less than 0\n",
      "k is not 0\n"
     ]
    }
   ],
   "source": [
    "k = -5\n",
    "\n",
    "while k < 0:\n",
    "    \n",
    "    print('k less than 0')\n",
    "    k += 1\n",
    "    #continue\n",
    "    #break\n",
    "else:\n",
    "    print('k is not 0')\n",
    "\n"
   ]
  },
  {
   "cell_type": "code",
   "execution_count": 233,
   "metadata": {},
   "outputs": [
    {
     "name": "stdout",
     "output_type": "stream",
     "text": [
      "8\n",
      "6\n",
      "4\n",
      "2\n"
     ]
    }
   ],
   "source": [
    "# break cut the loop execution and bring the program to the end statement\n",
    "# continue cut the loop but bring the program at the top of the loop and re-execute\n",
    "\n",
    "k = 10\n",
    "\n",
    "while k > 1:\n",
    "        k -= 1\n",
    "        #print(k)\n",
    "        if k%2 != 0:\n",
    "            continue\n",
    "            #break\n",
    "        print(k)"
   ]
  },
  {
   "cell_type": "code",
   "execution_count": 237,
   "metadata": {},
   "outputs": [
    {
     "name": "stdout",
     "output_type": "stream",
     "text": [
      "[2, 3, 4, 5, 9, 1, 12, 17, 19, 22, 24, 25, 27]\n",
      "[2, 3, 4, 5, 9, 1, 12, 17, 19, 22, 24, 25, 27]\n"
     ]
    }
   ],
   "source": [
    "test = [2,3,4,5,9,1,12,17,19, 22, 24, 25, 27]\n",
    "even = odd = []\n",
    "\n",
    "k = 0\n",
    "\n",
    "while k < len(test):\n",
    "    if test[k]%2 ==0:\n",
    "        even.append(test[k])\n",
    "        #k +=1\n",
    "    else:\n",
    "        odd.append(test[k])\n",
    "    k +=1\n",
    "\n",
    "print(even)\n",
    "print(odd)"
   ]
  },
  {
   "cell_type": "markdown",
   "metadata": {},
   "source": [
    "### Assingments"
   ]
  },
  {
   "cell_type": "code",
   "execution_count": 152,
   "metadata": {},
   "outputs": [],
   "source": [
    "# Task1 : \n",
    "# design your own dictionary/ language with alphabets to numbers using while and other loops\n",
    "# for few words"
   ]
  },
  {
   "cell_type": "code",
   "execution_count": 154,
   "metadata": {},
   "outputs": [
    {
     "data": {
      "text/plain": [
       "'\\nTask 2:\\n\\nDesign a automated car-parking system for a 20 storey building(G+20).\\nFor level 0(shopping mall) -> cars will be redirected to G0 parking.\\nfor even* level visitors cars will be redirected to B2 parking and\\nodd* level visitors cars will be parked into B1 parking.\\n\\nPrime level visitors(< level 10) are VVIP, they have separate parking to PLV_park_spl.\\n\\ninput: user input level number and car number\\noutput: list/dictionary of each parking with car number\\n\\nP.S: car number format <CR-XXXX> must be unique\\n'"
      ]
     },
     "execution_count": 154,
     "metadata": {},
     "output_type": "execute_result"
    }
   ],
   "source": [
    "'''\n",
    "Task 2:\n",
    "\n",
    "Design a automated car-parking system for a 20 storey building(G+20).\n",
    "For level 0(shopping mall) -> cars will be redirected to B0 parking.\n",
    "for even* level visitors cars will be redirected to B2 parking and\n",
    "odd* level visitors cars will be parked into B1 parking.\n",
    "\n",
    "*Prime level visitors(< level 10) are VVIP, they have separate parking to PLV_park_spl.\n",
    "\n",
    "input: user input level number and car number\n",
    "output: list/dictionary of each parking with car number\n",
    "\n",
    "P.S: car number format <CR-XXXX> must be unique\n",
    "'''    "
   ]
  },
  {
   "cell_type": "markdown",
   "metadata": {},
   "source": [
    "# User Input"
   ]
  },
  {
   "cell_type": "code",
   "execution_count": 238,
   "metadata": {},
   "outputs": [
    {
     "name": "stdout",
     "output_type": "stream",
     "text": [
      "['hello give number']2\n"
     ]
    }
   ],
   "source": [
    "x = input(['hello give number'])"
   ]
  },
  {
   "cell_type": "code",
   "execution_count": 239,
   "metadata": {},
   "outputs": [
    {
     "name": "stdout",
     "output_type": "stream",
     "text": [
      "hello87\n"
     ]
    }
   ],
   "source": [
    "x = input(prompt='hello')"
   ]
  },
  {
   "cell_type": "code",
   "execution_count": 252,
   "metadata": {},
   "outputs": [
    {
     "name": "stdout",
     "output_type": "stream",
     "text": [
      "CR-3421\n",
      "['CR-3421']\n"
     ]
    }
   ],
   "source": [
    "car_num = input(prompt='CR-')\n",
    "s = 'CR-{}'.format(car_num)\n",
    "carlist = []\n",
    "carlist.append(s)\n",
    "print(carlist)"
   ]
  },
  {
   "cell_type": "code",
   "execution_count": 250,
   "metadata": {},
   "outputs": [
    {
     "name": "stdout",
     "output_type": "stream",
     "text": [
      "CR-0910\n"
     ]
    }
   ],
   "source": [
    "print(s)"
   ]
  },
  {
   "cell_type": "code",
   "execution_count": 243,
   "metadata": {},
   "outputs": [
    {
     "name": "stdout",
     "output_type": "stream",
     "text": [
      "Enter a number: 10\n",
      "12\n"
     ]
    }
   ],
   "source": [
    "num = int(input('Enter a number: '))\n",
    "print(num+2)"
   ]
  },
  {
   "cell_type": "code",
   "execution_count": 3,
   "metadata": {},
   "outputs": [
    {
     "name": "stdout",
     "output_type": "stream",
     "text": [
      "Hi, user enter your age: 34\n",
      "Hi, you can enjoy Disney as well as 007 series. You can access H1-H8\n",
      "\n",
      "Tickets: Y1. RR-300, Y2. MR-250, Y3. FR-200\n",
      "Tickets: A1. RR-300, A2. MR-250, A3. FR-200\n",
      "Enter choice: A2\n",
      "Your entered choice is A2\n"
     ]
    }
   ],
   "source": [
    "# movie hall entry\n",
    "age = int(input('Hi, user enter your age: '))\n",
    "\n",
    "if age > 10 and age <18:\n",
    "    print('Disney movies are on the left H1- H4. Enjoy\\n')\n",
    "    print(\"Tickets: Y1. RR-300, Y2. MR-250, Y3. FR-200\")\n",
    "    \n",
    "    y_ticket = input('Enter choice: ')\n",
    "    # add checking to the choice\n",
    "    print('Your entered chocie is {}'.format(y_ticket))\n",
    "    \n",
    "elif age >=18:\n",
    "    print('Hi, you can enjoy Disney as well as 007 series. You can access H1-H8\\n')\n",
    "    print(\"Tickets: Y1. RR-300, Y2. MR-250, Y3. FR-200\")\n",
    "    print(\"Tickets: A1. RR-300, A2. MR-250, A3. FR-200\")\n",
    "    \n",
    "    a_ticket = input('Enter choice: ')\n",
    "    # add some checkign to the choice\n",
    "    \n",
    "    print('Your entered choice is {}'.format(a_ticket))\n",
    "        \n",
    "    \n",
    "    "
   ]
  },
  {
   "cell_type": "code",
   "execution_count": null,
   "metadata": {},
   "outputs": [],
   "source": []
  }
 ],
 "metadata": {
  "kernelspec": {
   "display_name": "Python 3 (ipykernel)",
   "language": "python",
   "name": "python3"
  },
  "language_info": {
   "codemirror_mode": {
    "name": "ipython",
    "version": 3
   },
   "file_extension": ".py",
   "mimetype": "text/x-python",
   "name": "python",
   "nbconvert_exporter": "python",
   "pygments_lexer": "ipython3",
   "version": "3.8.8"
  }
 },
 "nbformat": 4,
 "nbformat_minor": 4
}
